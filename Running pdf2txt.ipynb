{
 "cells": [
  {
   "cell_type": "code",
   "execution_count": 5,
   "metadata": {},
   "outputs": [
    {
     "name": "stdout",
     "output_type": "stream",
     "text": [
      "/Users/aidenjohnson/Library/Mobile Documents/com~apple~CloudDocs/Freelancer\n"
     ]
    }
   ],
   "source": [
    "import os\n",
    "import glob\n",
    "cwd = os.getcwd()\n",
    "print(cwd)"
   ]
  },
  {
   "cell_type": "code",
   "execution_count": 33,
   "metadata": {},
   "outputs": [
    {
     "name": "stdout",
     "output_type": "stream",
     "text": [
      "'/Users/aidenjohnson/Library/Mobile Documents/com~apple~CloudDocs/Freelancer/17651405_Pre-Reg-8-14-18-ex.pdf'\n",
      "'/Users/aidenjohnson/Library/Mobile Documents/com~apple~CloudDocs/Freelancer/17651405_Pre-Reg-8-14-18-ex.txt'\n"
     ]
    }
   ],
   "source": [
    "path='/Users/aidenjohnson/Library/Mobile Documents/com~apple~CloudDocs/Freelancer'\n",
    "os.chdir(path)\n",
    "os.listdir()\n",
    "for file in glob.glob(\"*.pdf\"):\n",
    "    file\n",
    "x=str(\"'\"+path+'/'+file+\"'\")\n",
    "print(x)\n",
    "y=str(x[:-4]+'txt'+\"'\")\n",
    "print(y)"
   ]
  },
  {
   "cell_type": "code",
   "execution_count": 37,
   "metadata": {},
   "outputs": [],
   "source": [
    "#import pdf2txt\n",
    "#pdf2txt x -o y\n",
    "#ended up callin un terminal window instead"
   ]
  },
  {
   "cell_type": "code",
   "execution_count": 51,
   "metadata": {},
   "outputs": [],
   "source": [
    "import pandas as pd\n",
    "from io import StringIO\n",
    "#df = pd.read_csv(StringIO('output1.txt'), skiprows=[0,1], header=None)"
   ]
  },
  {
   "cell_type": "code",
   "execution_count": 43,
   "metadata": {},
   "outputs": [
    {
     "data": {
      "text/plain": [
       "'21st Annual Western States CREF Conference – Pre-Registration List (as of 8-14-18) \\n\\nJeff Aana \\nSales Manager, Commercial Banking \\nKeyPoint Credit Union \\nSanta Clara, CA \\n\\nJames Abbee \\nRegional Director \\nGoldman Sachs \\nDallas, TX \\n\\nKamron Aghevli \\nVice President \\nSunrise Mortgage & Investment \\nCompany \\nPasadena, CA \\n \\nPhil Alves \\nAnalyst \\nJohn Hancock Real Estate Finance \\nBoston, MA \\n\\nRene Alvarez \\nSenior Vice President \\nWalker & Dunlop \\nWalnut Creek, CA \\n\\nSteven Ames \\nManaging Director \\nUSAA Real Estate Company \\nNewport Beach, CA \\n\\nCharles Adam \\nVP, Sr. Commercial Loan Officer \\nUnion Bank \\nBrea, CA \\n\\nJack Alvarez \\nSales Analyst \\nHunt Real Estate Capital \\nIrvine, CA \\n\\nDavid Anderson \\nEVP/Regional Credit Head \\nFresno First Bank \\nTorrance, CA \\n\\nChristian Andersson \\nManaging Director \\nBarings \\nNewport Beach, CA \\n\\nJoseph Andrada \\nPrincipal \\nOak Tree Commercial Mortgage \\nOrinda, CA \\n\\nJordan Angel \\nDirector \\nHFF \\nSan Francisco, CA \\n\\nJuan Aragon \\nDirector - Deputy Chief Underwriter \\nHunt Real Estate Capital \\nIrvine, CA \\n\\nScott Armstrong \\nSVP Director Specialty Deposits Group \\nPacific Premier Bank \\nIrvine, CA \\n\\nJason Aubrey \\nPrincipal \\nPlattPointe \\nDenver, CO \\n\\nKen Austad \\nVice President \\nSilvergate Bank \\nLa Jolla, CA \\n\\nDoug Austin \\nSenior Vice President \\nNorthMarq Capital, LLC \\nSan Diego, CA \\n\\nJ.C. Avakian \\nExecutive Director Client Manager \\nChase Commercial Term Lending \\nSan Francisco, CA \\n\\nAdam Baird \\nLoan Originations Officer \\nNew York Life \\nSan Francisco, CA \\n\\nJason Baker \\nManaging Director, Real Estate \\nCapitalSource \\nBeverly Hills, CA \\n\\nDan Baker \\nSenior Vice President \\nNorthMarq Capital, LLC \\nSan Francisco, CA \\n\\nJean Baker \\nManaging Director \\nLoanCore Capital, LLC \\nSan Francisco, CA \\n\\nTodd Barnett \\nManaging Director \\nWells Fargo Bank, NA \\nIrvine, CA \\n\\nTroy Batt \\nDirector \\nYAM Capital \\nScottsdale, AZ \\n\\nJeff Ballaine \\nVice President \\nHunt Real Estate Capital \\nSeattle, WA \\n\\nCharlotte Barlow \\nCommercial Loans Manager \\nAcademy Mortgage Corporation \\nDraper, UT \\n\\nFrederick Barrow \\nRegional Director - Mountain Region \\nMoney360 \\nLadera Ranch, CA \\n\\nRob Batchelor \\nDirector \\nUnion Bank \\nBrea, CA \\n\\nFabio Baum \\nRE Investments \\nArenaco \\nNew York, NY \\n\\nAnthony Bax \\nManaging Director \\nCTL Capital \\nNew York, NY \\n\\n\\x0c'"
      ]
     },
     "execution_count": 43,
     "metadata": {},
     "output_type": "execute_result"
    }
   ],
   "source": [
    "from __future__ import unicode_literals, print_function\n",
    "import plac\n",
    "import spacy\n",
    "f = open(\"output1.txt\",\"r\")\n",
    "TEXTS= f.read()\n",
    "TEXTS"
   ]
  },
  {
   "cell_type": "code",
   "execution_count": 116,
   "metadata": {},
   "outputs": [
    {
     "data": {
      "text/plain": [
       "0    Jeff Aana \\nSales Manager, Commercial Banking ...\n",
       "1    James Abbee \\nRegional Director \\nGoldman Sach...\n",
       "2    Kamron Aghevli \\nVice President \\nSunrise Mort...\n",
       "3    Rene Alvarez \\nSenior Vice President \\nWalker ...\n",
       "4    Steven Ames \\nManaging Director \\nUSAA Real Es...\n",
       "dtype: object"
      ]
     },
     "execution_count": 116,
     "metadata": {},
     "output_type": "execute_result"
    }
   ],
   "source": [
    "type(TEXTS)\n",
    "# Python code to convert string to list\n",
    "def Convert(string):\n",
    "    li = list(string.split(\" \\n\\n\" or \"  \\n \\n\"))\n",
    "    return li\n",
    "# Driver code    \n",
    "cntxt=Convert(TEXTS)\n",
    "s = pd.Series(cntxt[1:])\n",
    "s.head()"
   ]
  },
  {
   "cell_type": "code",
   "execution_count": 117,
   "metadata": {},
   "outputs": [
    {
     "name": "stdout",
     "output_type": "stream",
     "text": [
      "0    [Jeff Aana , Sales Manager, Commercial Banking...\n",
      "1    [James Abbee , Regional Director , Goldman Sac...\n",
      "2    [Kamron Aghevli , Vice President , Sunrise Mor...\n",
      "3    [Rene Alvarez , Senior Vice President , Walker...\n",
      "4    [Steven Ames , Managing Director , USAA Real E...\n",
      "dtype: object\n"
     ]
    }
   ],
   "source": [
    "s1=s.str.split(\"\\n\", n=4)\n",
    "print(s1.head())"
   ]
  },
  {
   "cell_type": "code",
   "execution_count": 118,
   "metadata": {},
   "outputs": [
    {
     "data": {
      "text/html": [
       "<div>\n",
       "<style>\n",
       "    .dataframe thead tr:only-child th {\n",
       "        text-align: right;\n",
       "    }\n",
       "\n",
       "    .dataframe thead th {\n",
       "        text-align: left;\n",
       "    }\n",
       "\n",
       "    .dataframe tbody tr th {\n",
       "        vertical-align: top;\n",
       "    }\n",
       "</style>\n",
       "<table border=\"1\" class=\"dataframe\">\n",
       "  <thead>\n",
       "    <tr style=\"text-align: right;\">\n",
       "      <th></th>\n",
       "      <th>A</th>\n",
       "    </tr>\n",
       "  </thead>\n",
       "  <tbody>\n",
       "    <tr>\n",
       "      <th>0</th>\n",
       "      <td>[Jeff Aana , Sales Manager, Commercial Banking...</td>\n",
       "    </tr>\n",
       "    <tr>\n",
       "      <th>1</th>\n",
       "      <td>[James Abbee , Regional Director , Goldman Sac...</td>\n",
       "    </tr>\n",
       "    <tr>\n",
       "      <th>2</th>\n",
       "      <td>[Kamron Aghevli , Vice President , Sunrise Mor...</td>\n",
       "    </tr>\n",
       "    <tr>\n",
       "      <th>3</th>\n",
       "      <td>[Rene Alvarez , Senior Vice President , Walker...</td>\n",
       "    </tr>\n",
       "    <tr>\n",
       "      <th>4</th>\n",
       "      <td>[Steven Ames , Managing Director , USAA Real E...</td>\n",
       "    </tr>\n",
       "  </tbody>\n",
       "</table>\n",
       "</div>"
      ],
      "text/plain": [
       "                                                   A\n",
       "0  [Jeff Aana , Sales Manager, Commercial Banking...\n",
       "1  [James Abbee , Regional Director , Goldman Sac...\n",
       "2  [Kamron Aghevli , Vice President , Sunrise Mor...\n",
       "3  [Rene Alvarez , Senior Vice President , Walker...\n",
       "4  [Steven Ames , Managing Director , USAA Real E..."
      ]
     },
     "execution_count": 118,
     "metadata": {},
     "output_type": "execute_result"
    }
   ],
   "source": [
    "df=pd.Series.to_frame(s1)\n",
    "df.columns = ['A']\n",
    "df.head()"
   ]
  },
  {
   "cell_type": "code",
   "execution_count": 119,
   "metadata": {},
   "outputs": [],
   "source": [
    "df2['Names']=df['A'].str[0]\n",
    "df2['Title']=df['A'].str[1]\n",
    "df2['Company']=df['A'].str[2]\n",
    "df2['City']=df['A'].str[3]\n",
    "df2['ext']=df['A'].str[4]\n",
    "df2.head()\n",
    "df2.to_csv('output.csv', sep=',')"
   ]
  },
  {
   "cell_type": "code",
   "execution_count": 120,
   "metadata": {},
   "outputs": [
    {
     "data": {
      "text/html": [
       "<div>\n",
       "<style>\n",
       "    .dataframe thead tr:only-child th {\n",
       "        text-align: right;\n",
       "    }\n",
       "\n",
       "    .dataframe thead th {\n",
       "        text-align: left;\n",
       "    }\n",
       "\n",
       "    .dataframe tbody tr th {\n",
       "        vertical-align: top;\n",
       "    }\n",
       "</style>\n",
       "<table border=\"1\" class=\"dataframe\">\n",
       "  <thead>\n",
       "    <tr style=\"text-align: right;\">\n",
       "      <th></th>\n",
       "      <th>Unnamed: 0</th>\n",
       "      <th>0</th>\n",
       "      <th>Names</th>\n",
       "      <th>Title</th>\n",
       "      <th>Company</th>\n",
       "      <th>City</th>\n",
       "      <th>ext</th>\n",
       "    </tr>\n",
       "  </thead>\n",
       "  <tbody>\n",
       "    <tr>\n",
       "      <th>0</th>\n",
       "      <td>0</td>\n",
       "      <td>NaN</td>\n",
       "      <td>Jeff Aana</td>\n",
       "      <td>Sales Manager, Commercial Banking</td>\n",
       "      <td>KeyPoint Credit Union</td>\n",
       "      <td>Santa Clara, CA</td>\n",
       "      <td>NaN</td>\n",
       "    </tr>\n",
       "    <tr>\n",
       "      <th>1</th>\n",
       "      <td>1</td>\n",
       "      <td>NaN</td>\n",
       "      <td>James Abbee</td>\n",
       "      <td>Regional Director</td>\n",
       "      <td>Goldman Sachs</td>\n",
       "      <td>Dallas, TX</td>\n",
       "      <td>NaN</td>\n",
       "    </tr>\n",
       "    <tr>\n",
       "      <th>2</th>\n",
       "      <td>2</td>\n",
       "      <td>NaN</td>\n",
       "      <td>Kamron Aghevli</td>\n",
       "      <td>Vice President</td>\n",
       "      <td>Sunrise Mortgage &amp; Investment</td>\n",
       "      <td>Company</td>\n",
       "      <td>Pasadena, CA \\n \\nPhil Alves \\nAnalyst \\nJohn ...</td>\n",
       "    </tr>\n",
       "    <tr>\n",
       "      <th>3</th>\n",
       "      <td>3</td>\n",
       "      <td>NaN</td>\n",
       "      <td>Rene Alvarez</td>\n",
       "      <td>Senior Vice President</td>\n",
       "      <td>Walker &amp; Dunlop</td>\n",
       "      <td>Walnut Creek, CA</td>\n",
       "      <td>NaN</td>\n",
       "    </tr>\n",
       "    <tr>\n",
       "      <th>4</th>\n",
       "      <td>4</td>\n",
       "      <td>NaN</td>\n",
       "      <td>Steven Ames</td>\n",
       "      <td>Managing Director</td>\n",
       "      <td>USAA Real Estate Company</td>\n",
       "      <td>Newport Beach, CA</td>\n",
       "      <td>NaN</td>\n",
       "    </tr>\n",
       "  </tbody>\n",
       "</table>\n",
       "</div>"
      ],
      "text/plain": [
       "   Unnamed: 0   0            Names                               Title  \\\n",
       "0           0 NaN       Jeff Aana   Sales Manager, Commercial Banking    \n",
       "1           1 NaN     James Abbee                   Regional Director    \n",
       "2           2 NaN  Kamron Aghevli                      Vice President    \n",
       "3           3 NaN    Rene Alvarez               Senior Vice President    \n",
       "4           4 NaN     Steven Ames                   Managing Director    \n",
       "\n",
       "                          Company               City  \\\n",
       "0          KeyPoint Credit Union     Santa Clara, CA   \n",
       "1                  Goldman Sachs          Dallas, TX   \n",
       "2  Sunrise Mortgage & Investment            Company    \n",
       "3                Walker & Dunlop    Walnut Creek, CA   \n",
       "4       USAA Real Estate Company   Newport Beach, CA   \n",
       "\n",
       "                                                 ext  \n",
       "0                                                NaN  \n",
       "1                                                NaN  \n",
       "2  Pasadena, CA \\n \\nPhil Alves \\nAnalyst \\nJohn ...  \n",
       "3                                                NaN  \n",
       "4                                                NaN  "
      ]
     },
     "execution_count": 120,
     "metadata": {},
     "output_type": "execute_result"
    }
   ],
   "source": [
    "df3=pd.read_csv('output.csv')\n",
    "df3.head()\n"
   ]
  },
  {
   "cell_type": "code",
   "execution_count": 11,
   "metadata": {},
   "outputs": [
    {
     "name": "stderr",
     "output_type": "stream",
     "text": [
      "usage: ipykernel_launcher.py [-h] [model]\n",
      "ipykernel_launcher.py: error: unrecognized arguments: -f\n"
     ]
    },
    {
     "ename": "SystemExit",
     "evalue": "2",
     "output_type": "error",
     "traceback": [
      "An exception has occurred, use %tb to see the full traceback.\n",
      "\u001b[0;31mSystemExit\u001b[0m\u001b[0;31m:\u001b[0m 2\n"
     ]
    },
    {
     "name": "stderr",
     "output_type": "stream",
     "text": [
      "/anaconda/lib/python3.6/site-packages/IPython/core/interactiveshell.py:2889: UserWarning: To exit: use 'exit', 'quit', or Ctrl-D.\n",
      "  warn(\"To exit: use 'exit', 'quit', or Ctrl-D.\", stacklevel=1)\n"
     ]
    }
   ],
   "source": [
    "@plac.annotations(\n",
    "    model=(\"Model to load (needs parser and NER)\", \"positional\", None, str))\n",
    "def main(model='en_core_web_sm'):\n",
    "    nlp = spacy.load(model)\n",
    "    print(\"Loaded model '%s'\" % model)\n",
    "    print(\"Processing %d texts\" % len(TEXTS))\n",
    "\n",
    "    for text in TEXTS:\n",
    "        doc = nlp(text)\n",
    "        relations = extract_currency_relations(doc)\n",
    "        for r1, r2 in relations:\n",
    "            print('{:<10}\\t{}\\t{}'.format(r1.text, r2.ent_type_, r2.text))\n",
    "\n",
    "\n",
    "def extract_currency_relations(doc):\n",
    "    # merge entities and noun chunks into one token\n",
    "    spans = list(doc.ents) + list(doc.noun_chunks)\n",
    "    for span in spans:\n",
    "        span.merge()\n",
    "\n",
    "    relations = []\n",
    "    for money in filter(lambda w: w.ent_type_ == 'MONEY', doc):\n",
    "        if money.dep_ in ('attr', 'dobj'):\n",
    "            subject = [w for w in money.head.lefts if w.dep_ == 'nsubj']\n",
    "            if subject:\n",
    "                subject = subject[0]\n",
    "                relations.append((subject, money))\n",
    "        elif money.dep_ == 'pobj' and money.head.dep_ == 'prep':\n",
    "            relations.append((money.head.head, money))\n",
    "    return relations\n",
    "\n",
    "\n",
    "if __name__ == '__main__':\n",
    "    plac.call(main)\n"
   ]
  }
 ],
 "metadata": {
  "kernelspec": {
   "display_name": "Python 3",
   "language": "python",
   "name": "python3"
  },
  "language_info": {
   "codemirror_mode": {
    "name": "ipython",
    "version": 3
   },
   "file_extension": ".py",
   "mimetype": "text/x-python",
   "name": "python",
   "nbconvert_exporter": "python",
   "pygments_lexer": "ipython3",
   "version": "3.6.1"
  }
 },
 "nbformat": 4,
 "nbformat_minor": 2
}
